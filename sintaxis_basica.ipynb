{
 "cells": [
  {
   "cell_type": "markdown",
   "metadata": {},
   "source": [
    "# Sintaxis Básica \n",
    "## Tipos: Númericos, textos, Boleanos\n",
    " Númericos: enteros (int), coma flotante (float), complejos. \n",
    " \n",
    " Textos.\n",
    "\n",
    " Boleanos: True, False.\n",
    "\n",
    "\n",
    "## Operadores \n",
    "Aritmeticos: suma (+), resta (-), multiplicacion (*), division (/), modulo (%), exponente (**), division entera (//).\n",
    "\n",
    "Comparacion: igual que (==), diferente que (!=),\n",
    "mayor que (>), menor que (<>), mayor igual que (>=), menor igual que (<=).\n",
    "\n",
    "Logicos: AND, OR, NOT.\n",
    "\n",
    "Asignacion: igual (=), incremento (+=), decremento (-=), *=, /=, %=, **=, //=.\n",
    "\n",
    "Especiales: IS, IS NOT, IN, NOT IN. \n",
    "\n",
    "# Variable\n",
    "Espacio en memoria del ordendor donde se almacenará un valor que podrá cambiar durante la ejecución del programa.\n",
    "\n",
    "\n"
   ]
  },
  {
   "cell_type": "code",
   "execution_count": 8,
   "metadata": {},
   "outputs": [
    {
     "data": {
      "text/plain": [
       "11"
      ]
     },
     "execution_count": 8,
     "metadata": {},
     "output_type": "execute_result"
    }
   ],
   "source": [
    "5+6\n"
   ]
  },
  {
   "cell_type": "code",
   "execution_count": 12,
   "metadata": {},
   "outputs": [
    {
     "data": {
      "text/plain": [
       "0"
      ]
     },
     "execution_count": 12,
     "metadata": {},
     "output_type": "execute_result"
    }
   ],
   "source": [
    "10%2\n"
   ]
  },
  {
   "cell_type": "code",
   "execution_count": 13,
   "metadata": {},
   "outputs": [
    {
     "data": {
      "text/plain": [
       "625"
      ]
     },
     "execution_count": 13,
     "metadata": {},
     "output_type": "execute_result"
    }
   ],
   "source": [
    "5**4\n"
   ]
  },
  {
   "cell_type": "code",
   "execution_count": 1,
   "metadata": {},
   "outputs": [
    {
     "data": {
      "text/plain": [
       "1"
      ]
     },
     "execution_count": 1,
     "metadata": {},
     "output_type": "execute_result"
    }
   ],
   "source": [
    "4//3\n"
   ]
  },
  {
   "cell_type": "code",
   "execution_count": 2,
   "metadata": {},
   "outputs": [
    {
     "data": {
      "text/plain": [
       "1.75"
      ]
     },
     "execution_count": 2,
     "metadata": {},
     "output_type": "execute_result"
    }
   ],
   "source": [
    "7/4"
   ]
  },
  {
   "cell_type": "markdown",
   "metadata": {},
   "source": [
    "### Variable \n",
    "Nombre, nombre, nombre3, mi_nombre, noombre_clave_persona.  \n",
    "\n",
    "Python es un lenguaje 100% orientado a objetos.\n",
    "\n",
    "# Funciones\n",
    "- Conjunto de lineas de codigo agrupados (bloque de código) que funcionan como unidad realizando una tarea especifica.\n",
    "\n",
    "- las funciones en python pueden devolver valores.\n",
    "\n",
    "- las funciones en python pueden tener párametros/argumentos.\n",
    "\n",
    "- A las funciones se les denomina \"metodos\" cuando se encuentran defenidas dentro de una clase.\n",
    "### Utilidad de una funcion\n",
    "- Reutilización de código (cuando sea necesario o si es necesario)\n",
    "\n",
    "### Sintaxis de una función\n",
    "- def nombre_funcion ():\n",
    "    - intrucciones de la función.\n",
    "    - return (opcional)\n",
    "- def nombre_funcion (parámetros)\n",
    "    - intrucciones de la función\n",
    "    - return (opcional)\n",
    "\n",
    "### Ejecución de una función\n",
    "- nombre_funcion()\n",
    "- nombre_funcion(parámetros)\n",
    "\n",
    "#### Nota \n",
    "- funciones predifinidas: son las que vienen con el programa\n",
    "- funciones propias: son las que creas segun tu nesecidad\n",
    "\n",
    "# Listas en python\n",
    "- Estructura de datos que nos permiten almacenar gran cantidad de valores (equivalentes a  los array en otros lenguajes de programación)\n",
    "- En python las listas se pueden guardar diferennte tipos de valores (en otros lengujes no ocurre esto con los array)\n",
    "- Se pueden expandir dinámicamente añadiendo nuevos elementos (ota novedad respecto alos arrays en otros lenguajes)\n",
    "\n",
    "### Sintaxis de las listas en python \n",
    "- nombreLista = [elem1, elem2, elem3]\n",
    "- Su índice se empieza a contar de izquierda a derecha y desde la posición cero a infinito.\n",
    "\n",
    "\n",
    "# Las tuplas en python\n"
   ]
  }
 ],
 "metadata": {
  "kernelspec": {
   "display_name": "Python 3.10.7 64-bit",
   "language": "python",
   "name": "python3"
  },
  "language_info": {
   "codemirror_mode": {
    "name": "ipython",
    "version": 3
   },
   "file_extension": ".py",
   "mimetype": "text/x-python",
   "name": "python",
   "nbconvert_exporter": "python",
   "pygments_lexer": "ipython3",
   "version": "3.10.7 (tags/v3.10.7:6cc6b13, Sep  5 2022, 14:08:36) [MSC v.1933 64 bit (AMD64)]"
  },
  "orig_nbformat": 4,
  "vscode": {
   "interpreter": {
    "hash": "959e57dc0a37e639553a4bdb350896ed4d4f15ec6ead1eb0fd82df70d0f6f87c"
   }
  }
 },
 "nbformat": 4,
 "nbformat_minor": 2
}
